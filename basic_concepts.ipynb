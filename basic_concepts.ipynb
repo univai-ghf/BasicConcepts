{
 "cells": [
  {
   "cell_type": "markdown",
   "metadata": {
    "hide": true
   },
   "source": [
    "# Overfitting and Regularization: the basic concepts of machine learning\n",
    "\n"
   ]
  },
  {
   "cell_type": "code",
   "execution_count": null,
   "metadata": {
    "hide": true
   },
   "outputs": [],
   "source": [
    "%matplotlib inline\n",
    "import numpy as np\n",
    "import scipy as sp\n",
    "import matplotlib as mpl\n",
    "import matplotlib.cm as cm\n",
    "import matplotlib.pyplot as plt\n",
    "import pandas as pd"
   ]
  },
  {
   "cell_type": "markdown",
   "metadata": {},
   "source": [
    "## PART 1: Reading in and sampling from the data"
   ]
  },
  {
   "cell_type": "code",
   "execution_count": null,
   "metadata": {},
   "outputs": [],
   "source": [
    "df=pd.read_csv(\"https://raw.githubusercontent.com/univai-ghf/ghfmedia/main/data/basic_concepts_data/noisypopulation.csv\")\n",
    "df.head()"
   ]
  },
  {
   "cell_type": "code",
   "execution_count": null,
   "metadata": {},
   "outputs": [],
   "source": [
    "x = df.x.values\n",
    "f = df.f.values\n",
    "y = df.y.values"
   ]
  },
  {
   "cell_type": "code",
   "execution_count": null,
   "metadata": {},
   "outputs": [],
   "source": [
    "df.shape"
   ]
  },
  {
   "cell_type": "markdown",
   "metadata": {},
   "source": [
    "From 200 points on this curve, we'll make a random choice of 60 points. We do it by choosing the indexes randomly, and then using these indexes as a way of getting the appropriate samples"
   ]
  },
  {
   "cell_type": "code",
   "execution_count": null,
   "metadata": {},
   "outputs": [],
   "source": [
    "rng=np.random.RandomState(314)\n",
    "indexes=np.sort(rng.choice(x.shape[0], size=60, replace=False))\n",
    "indexes"
   ]
  },
  {
   "cell_type": "code",
   "execution_count": null,
   "metadata": {},
   "outputs": [],
   "source": [
    "samplex = x[indexes]\n",
    "samplef = f[indexes]\n",
    "sampley = y[indexes]"
   ]
  },
  {
   "cell_type": "code",
   "execution_count": null,
   "metadata": {
    "figure_type": "m"
   },
   "outputs": [],
   "source": [
    "plt.figure(figsize=(12,8))\n",
    "plt.plot(x,f, 'k-', alpha=0.6, label=\"f\");\n",
    "plt.plot(x[indexes], y[indexes], 's', alpha=0.3, ms=10, label=\"in-sample y (observed)\");\n",
    "plt.plot(x, y, '.', alpha=0.8, label=\"population y\");\n",
    "plt.xlabel('$x$');\n",
    "plt.ylabel('$y$')\n",
    "plt.legend(loc=4);"
   ]
  },
  {
   "cell_type": "code",
   "execution_count": null,
   "metadata": {},
   "outputs": [],
   "source": [
    "sample_df=pd.DataFrame(dict(x=x[indexes],f=f[indexes],y=y[indexes]))\n",
    "sample_df.head()"
   ]
  },
  {
   "cell_type": "markdown",
   "metadata": {},
   "source": [
    "## PART 2: Setting up the features and the training and testing sets\n",
    "\n",
    "We will do the split of testing and training for you in order to illustrate how this can be done.\n",
    "\n",
    "### Train-test split"
   ]
  },
  {
   "cell_type": "code",
   "execution_count": null,
   "metadata": {},
   "outputs": [],
   "source": [
    "from sklearn.model_selection import train_test_split\n",
    "datasize=sample_df.shape[0]\n",
    "print(f'Sample size: {datasize}')\n",
    "#split dataset using the index, as we have x,f, and y that we want to split.\n",
    "itrain,itest = train_test_split(np.arange(datasize),train_size=0.8, random_state=32)\n",
    "print(itrain.shape)\n",
    "xtrain= sample_df.x[itrain].values\n",
    "ftrain = sample_df.f[itrain].values\n",
    "ytrain = sample_df.y[itrain].values\n",
    "xtest= sample_df.x[itest].values\n",
    "ftest = sample_df.f[itest].values\n",
    "ytest = sample_df.y[itest].values"
   ]
  },
  {
   "cell_type": "code",
   "execution_count": null,
   "metadata": {},
   "outputs": [],
   "source": [
    "xtrain"
   ]
  },
  {
   "cell_type": "code",
   "execution_count": null,
   "metadata": {},
   "outputs": [],
   "source": [
    "plt.scatter(xtrain,ytrain, label='train')\n",
    "plt.scatter(xtest,ytest, label='test')\n",
    "plt.title('Scatter plot of train and test datasets')\n",
    "plt.legend()\n",
    "plt.show()"
   ]
  },
  {
   "cell_type": "markdown",
   "metadata": {},
   "source": [
    "We'll need to create polynomial features, ie add 1, x, x^2 and so on."
   ]
  },
  {
   "cell_type": "markdown",
   "metadata": {},
   "source": [
    "### The `scikit-learn` interface\n",
    "\n",
    "Scikit-learn is the main python machine learning library. It consists of many learners which can learn models from data, as well as a lot of utility functions such as `train_test_split`. It can be used in python by the incantation `import sklearn`.\n",
    "\n",
    "The library has a very well defined interface. This makes the library a joy to use, and surely contributes to its popularity. As the [scikit-learn API paper](http://arxiv.org/pdf/1309.0238v1.pdf) [Buitinck, Lars, et al. \"API design for machine learning software: experiences from the scikit-learn project.\" arXiv preprint arXiv:1309.0238 (2013).] says:\n",
    "\n",
    ">All objects within scikit-learn share a uniform common basic API consisting of three complementary interfaces: **an estimator interface for building and ﬁtting models, a predictor interface for making predictions and a transformer interface for converting data**. The estimator interface is at the core of the library. It deﬁnes instantiation mechanisms of objects and exposes a `fit` method for learning a model from training data. All supervised and unsupervised learning algorithms (e.g., for classiﬁcation, regression or clustering) are oﬀered as objects implementing this interface. Machine learning tasks like feature extraction, feature selection or dimensionality reduction are also provided as estimators.\n",
    "\n",
    "We'll use the \"estimator\" interface here, specifically the estimator `PolynomialFeatures`. The API paper again:\n",
    "\n",
    ">Since it is common to modify or ﬁlter data before feeding it to a learning algorithm, some estimators in the library implement a transformer interface which deﬁnes a transform method. It takes as input some new data X and yields as output a transformed version of X. Preprocessing, feature selection, feature extraction and dimensionality reduction algorithms are all provided as transformers within the library.\n",
    "\n",
    "To start with we have one **feature** `x` to predict `y`, what we will do is the transformation:\n",
    "\n",
    "$$ x \\rightarrow 1, x, x^2, x^3, ..., x^d $$\n",
    "\n",
    "for some power $d$. Our job then is to **fit** for the coefficients of these features in the polynomial\n",
    "\n",
    "$$ a_0 + a_1 x + a_2 x^2 + ... + a_d x^d. $$\n",
    "\n",
    "In other words, we have transformed a function of one feature, into a (rather simple) **linear** function of many features. To do this we first construct the estimator as `PolynomialFeatures(d)`, and then transform these features into a d-dimensional space using the method `fit_transform`.\n",
    "\n",
    "<img src='https://raw.githubusercontent.com/univai-ghf/ghfmedia/main/images/basic_concepts_images/sklearntrans.jpg' width='600'>\n",
    "\n",
    "Here is an example. The reason for using `[[1],[2],[3]]` as opposed to `[1,2,3]` is that scikit-learn expects data to be stored in a two-dimensional array or matrix with size `[n_samples, n_features]`."
   ]
  },
  {
   "cell_type": "code",
   "execution_count": null,
   "metadata": {},
   "outputs": [],
   "source": [
    "np.array([1,2,3]).reshape(-1,1)"
   ]
  },
  {
   "cell_type": "markdown",
   "metadata": {},
   "source": [
    "To transform `[1,2,3]` into [[1],[2],[3]] we need to do a reshape.\n",
    "\n",
    "<img src='https://raw.githubusercontent.com/univai-ghf/ghfmedia/main/images/basic_concepts_images/reshape.jpg' width='600'>"
   ]
  },
  {
   "cell_type": "code",
   "execution_count": null,
   "metadata": {},
   "outputs": [],
   "source": [
    "xtest.reshape(-1,1)"
   ]
  },
  {
   "cell_type": "code",
   "execution_count": null,
   "metadata": {},
   "outputs": [],
   "source": [
    "from sklearn.preprocessing import PolynomialFeatures"
   ]
  },
  {
   "cell_type": "code",
   "execution_count": null,
   "metadata": {},
   "outputs": [],
   "source": [
    "PolynomialFeatures(3).fit_transform(xtest)"
   ]
  },
  {
   "cell_type": "code",
   "execution_count": null,
   "metadata": {},
   "outputs": [],
   "source": [
    "PolynomialFeatures(3).fit_transform(xtest.reshape(-1,1))"
   ]
  },
  {
   "cell_type": "markdown",
   "metadata": {},
   "source": [
    "**Question** : Look at the scatter plot of observed data below. \n",
    "<br/>Suppose we fit a cubic polynomial to the data, will adding more data reduce bias? \n",
    "\n",
    "![sine](https://raw.githubusercontent.com/univai-ghf/ghfmedia/main/images/basic_concepts_images/sine.png)\n",
    "\n",
    "A) Yes\n",
    "\n",
    "B) No\n"
   ]
  },
  {
   "cell_type": "markdown",
   "metadata": {},
   "source": [
    "## PART 3: Doing the fit\n",
    "\n",
    "We first create our features, and some arrays to store the errors."
   ]
  },
  {
   "cell_type": "markdown",
   "metadata": {
    "tags": []
   },
   "source": [
    "### Creating Polynomial features\n",
    "\n",
    "We'll write a function to encapsulate what we learnt about creating the polynomial features."
   ]
  },
  {
   "cell_type": "code",
   "execution_count": null,
   "metadata": {},
   "outputs": [],
   "source": [
    "def make_features(train_set, test_set, degrees):\n",
    "    train_dict = {}\n",
    "    test_dict = {}\n",
    "    for d in degrees:\n",
    "        train_dict[d] = PolynomialFeatures(d).fit_transform(train_set.reshape(-1,1))\n",
    "        test_dict[d] = PolynomialFeatures(d).fit_transform(test_set.reshape(-1,1))\n",
    "    return train_dict, test_dict"
   ]
  },
  {
   "cell_type": "code",
   "execution_count": null,
   "metadata": {},
   "outputs": [],
   "source": [
    "degrees=range(21)\n",
    "train_dict, test_dict = make_features(xtrain, xtest, degrees)"
   ]
  },
  {
   "cell_type": "code",
   "execution_count": null,
   "metadata": {},
   "outputs": [],
   "source": [
    "error_train=np.empty(len(degrees))\n",
    "error_test=np.empty(len(degrees))"
   ]
  },
  {
   "cell_type": "markdown",
   "metadata": {},
   "source": [
    "What is the fitting process? We first loop over all the **hypothesis set**s that we wish to consider: in our case this is a loop over the complexity parameter $d$, the degree of the polynomials we will try and fit. That is we start with ${\\cal H_0}$, the set of all 0th order polynomials, then do ${\\cal H_1}$, then ${\\cal H_2}$, and so on... We use the notation ${\\cal H}$ to indicate a hypothesis set. Then for each degree $d$, we obtain a best fit model. We then \"test\" this model by predicting on the test chunk, obtaining the test set error for the best-fit polynomial coefficients and for degree $d$. We move on to the next degree $d$ and repeat the process, just like before. We compare all the test set errors, and pick the degree $d_*$ and the model in ${\\cal H_{d_*}}$ which minimizes this test set error."
   ]
  },
  {
   "cell_type": "code",
   "execution_count": null,
   "metadata": {},
   "outputs": [],
   "source": [
    "from sklearn.linear_model import LinearRegression\n",
    "from sklearn.metrics import mean_squared_error"
   ]
  },
  {
   "cell_type": "code",
   "execution_count": null,
   "metadata": {},
   "outputs": [],
   "source": [
    "#for each degree, we now fit on the training set and predict on the test set\n",
    "#we accumulate the MSE on both sets in error_train and error_test\n",
    "for d in degrees:#for increasing polynomial degrees 0,1,2...\n",
    "    Xtrain = train_dict[d]\n",
    "    Xtest = test_dict[d]\n",
    "    #set up model\n",
    "    est = LinearRegression()\n",
    "    #fit\n",
    "    est.fit(Xtrain, ytrain)\n",
    "    #predict\n",
    "    prediction_on_training = est.predict(Xtrain)\n",
    "    prediction_on_test = est.predict(Xtest)\n",
    "    #calculate mean squared error\n",
    "    error_train[d] = mean_squared_error(ytrain, prediction_on_training)\n",
    "    error_test[d] = mean_squared_error(ytest, prediction_on_test)"
   ]
  },
  {
   "cell_type": "markdown",
   "metadata": {},
   "source": [
    "### The complexity curve"
   ]
  },
  {
   "cell_type": "markdown",
   "metadata": {},
   "source": [
    "We can find the best degree thus:"
   ]
  },
  {
   "cell_type": "code",
   "execution_count": null,
   "metadata": {},
   "outputs": [],
   "source": [
    "bestd = np.argmin(error_test)"
   ]
  },
  {
   "cell_type": "code",
   "execution_count": null,
   "metadata": {},
   "outputs": [],
   "source": [
    "bestd"
   ]
  },
  {
   "cell_type": "code",
   "execution_count": null,
   "metadata": {},
   "outputs": [],
   "source": [
    "plt.figure(figsize=(12,8))\n",
    "plt.plot(degrees, error_train, marker='o', label='train (in-sample)')\n",
    "plt.plot(degrees, error_test, marker='o', label='test')\n",
    "plt.axvline(bestd, 0,0.5, color='r', label=\"min test error at d=%d\"%bestd, alpha=0.3)\n",
    "plt.ylabel('mean squared error')\n",
    "plt.xlabel('degree')\n",
    "plt.legend(loc='upper left')\n",
    "plt.yscale(\"log\")"
   ]
  },
  {
   "cell_type": "markdown",
   "metadata": {},
   "source": [
    "<img src='https://raw.githubusercontent.com/univai-ghf/ghfmedia/main/images/basic_concepts_images/complexity-error-plot.png' width='400'>"
   ]
  },
  {
   "cell_type": "markdown",
   "metadata": {},
   "source": [
    "**Question**: Order the following models in the order of overfitting with the least overfitted or most underfitted on the left to most overfitted or least underfitted on the right.\n",
    "![all plots](https://raw.githubusercontent.com/univai-ghf/ghfmedia/main/images/basic_concepts_images/allplots.png)\n",
    "\n",
    "A) e, c, b, f, d, a\n",
    "\n",
    "B) a, e, b, c, f, d\n",
    "\n",
    "C) d, f, b, e, a, c\n",
    "\n",
    "D) c, b, e, a, f, d"
   ]
  },
  {
   "cell_type": "markdown",
   "metadata": {},
   "source": [
    "## PART 4: Validation"
   ]
  },
  {
   "cell_type": "markdown",
   "metadata": {},
   "source": [
    "What we have done in picking a given $d$ as the best hypothesis is that we have used the test set as a training set. \n",
    "If we choose the best $d$ based on minimizing the test set error, we have then \"fit for\" hyperparameter $d$ on the test set. \n",
    "\n",
    "In this case, the test-set error will underestimate the true out of sample error. Furthermore, we have **contaminated the test set** by fitting for $d$ on it; it is no longer a true test set.\n",
    "\n",
    "Thus, we introduce a new **validation set** on which the complexity parameter $d$ is fit, and leave out a test set which we can use to estimate the true out-of-sample performance of our learner. The place of this set in the scheme of things is shown below:\n",
    "\n",
    "<img src='https://raw.githubusercontent.com/univai-ghf/ghfmedia/main/images/basic_concepts_images/train-validate-test.png' width='300'>\n",
    "\n",
    "We have split the old training set into a **new smaller training set** and a **validation set**, holding the old test aside for FINAL testing AFTER we have \"fit\" for complexity $d$. Obviously we have decreased the size of the data available for training further, but this is a price we must pay for obtaining a good estimate of the out-of-sample risk $\\cal{E}_{out}$ (also denoted as risk $R_{out}$) through the test risk $\\cal{E}_{test}$ ($R_{test}$).\n",
    "\n",
    "<img src='https://raw.githubusercontent.com/univai-ghf/ghfmedia/main/images/basic_concepts_images/train-validate-test-cont.png' width='500'>"
   ]
  },
  {
   "cell_type": "markdown",
   "metadata": {},
   "source": [
    "The validation process is illustrated in these two figures. We first loop over the complexity parameter $d$, the degree of the polynomials we will try and fit. Then for each degree $d$, we obtain a best fit model $g^-_d$ where the \"minus\" superscript indicates that we fit our model on the new training set which is obtained by removing (\"minusing\") a validation chunk (often the same size as the test chunk) from the old training set. We then \"test\" this model on the validation chunk, obtaining the validation error for the best-fit polynomial coefficients and for degree $d$. We move on to the next degree $d$ and repeat the process, just like before. We compare all the validation set errors, just like we did with the test errors earlier, and pick the degree $d_*$ which minimizes this validation set error.\n",
    "\n",
    "<img src='https://raw.githubusercontent.com/univai-ghf/ghfmedia/main/images/basic_concepts_images/train-validate-test3.png' width='450'>\n",
    "\n",
    "Having picked the hyperparameter $d_*$, we retrain using the hypothesis set $\\cal{H}_{*}$ on the entire old training-set to find the parameters of the polynomial of order $d_*$ and the corresponding best fit hypothesis $g_*$. Note that we left the minus off the $g$ to indicate that it was trained on the entire old traing set. We now compute the test error on the test set as an estimate of the test risk $\\cal{E}_{test}$.\n",
    "\n",
    "Thus the **validation** set if the set on which the hyperparameter is fit. This method of splitting the data $\\cal{D}$ is called the **train-validate-test** split."
   ]
  },
  {
   "cell_type": "markdown",
   "metadata": {},
   "source": [
    "### Fit on training and predict on validation\n",
    "\n",
    "\n",
    "We carry out this process for one training/validation split below. Note the smaller size of the new training set. We hold the test set at the same size."
   ]
  },
  {
   "cell_type": "code",
   "execution_count": null,
   "metadata": {},
   "outputs": [],
   "source": [
    "#we split the training set down further\n",
    "intrain,invalid = train_test_split(itrain,train_size=36, test_size=12)\n",
    "# why not just use xtrain, xtest here? its the indices we need. How could you use xtrain and xtest?\n",
    "xntrain= sample_df.x[intrain].values\n",
    "fntrain = sample_df.f[intrain].values\n",
    "yntrain = sample_df.y[intrain].values\n",
    "xnvalid= sample_df.x[invalid].values\n",
    "fnvalid = sample_df.f[invalid].values\n",
    "ynvalid = sample_df.y[invalid].values\n",
    "\n",
    "degrees=range(21)\n",
    "train_dict, valid_dict = make_features(xntrain, xnvalid, degrees)"
   ]
  },
  {
   "cell_type": "code",
   "execution_count": null,
   "metadata": {},
   "outputs": [],
   "source": [
    "error_train=np.empty(len(degrees))\n",
    "error_valid=np.empty(len(degrees))\n",
    "#for each degree, we now fit on the smaller training set and predict on the validation set\n",
    "#we accumulate the MSE on both sets in error_train and error_valid\n",
    "#we then find the degree of polynomial that minimizes the MSE on the validation set.\n",
    "for d in degrees:#for increasing polynomial degrees 0,1,2...\n",
    "    #Create polynomials from x\n",
    "    Xntrain = train_dict[d]\n",
    "    Xnvalid = valid_dict[d]\n",
    "    #fit a model linear in polynomial coefficients on the new smaller training set\n",
    "    est = LinearRegression()\n",
    "    est.fit(Xntrain, yntrain)\n",
    "    # your code here\n"
   ]
  },
  {
   "cell_type": "code",
   "execution_count": null,
   "metadata": {},
   "outputs": [],
   "source": [
    "#calculate the degree at which validation error is minimized\n",
    "mindeg = np.argmin(error_valid)\n",
    "mindeg"
   ]
  },
  {
   "cell_type": "code",
   "execution_count": null,
   "metadata": {},
   "outputs": [],
   "source": [
    "#fit on WHOLE training set now. \n",
    "##you will need to remake polynomial features on the whole training set\n",
    "#Put MSE on the test set in variable err.\n",
    "#your code here\n"
   ]
  },
  {
   "cell_type": "code",
   "execution_count": null,
   "metadata": {},
   "outputs": [],
   "source": [
    "plt.scatter(xntrain,yntrain, label='train')\n",
    "plt.scatter(xnvalid,ynvalid, label='Validation')\n",
    "plt.title('Scatter plot of train and validation sets')\n",
    "plt.legend()\n",
    "plt.show()"
   ]
  },
  {
   "cell_type": "markdown",
   "metadata": {},
   "source": [
    "We plot the training error and validation error against the degree of the polynomial, and show the test set error at the $d$ which minimizes the validation set error."
   ]
  },
  {
   "cell_type": "code",
   "execution_count": null,
   "metadata": {},
   "outputs": [],
   "source": [
    "plt.figure(figsize=(12,8))\n",
    "plt.plot(degrees, error_train, marker='o', label='train (in-sample)')\n",
    "plt.plot(degrees, error_valid, marker='o', label='validation')\n",
    "plt.plot([mindeg], [err], marker='s', markersize=10, label='test', alpha=0.5, color='r')\n",
    "plt.xticks(range(0,21,2))\n",
    "plt.ylabel('mean squared error')\n",
    "plt.xlabel('degree')\n",
    "plt.legend(loc='upper left')\n",
    "plt.yscale(\"log\")\n",
    "print(mindeg)"
   ]
  },
  {
   "cell_type": "markdown",
   "metadata": {},
   "source": [
    "> YOUR TURN HERE: Run the set of cells for the validation process again and again. What do you see? The validation error minimizing polynomial degree might change! What happened?\n"
   ]
  },
  {
   "cell_type": "markdown",
   "metadata": {},
   "source": [
    "## PART 5: Cross Validation"
   ]
  },
  {
   "cell_type": "markdown",
   "metadata": {},
   "source": [
    "1. You should worry that a given split exposes us to the peculiarity of the data set that got randomly chosen for us. This naturally leads us to want to choose multiple such random splits and somehow average over this process to find the \"best\" validation minimizing polynomial degree or complexity $d$.\n",
    "2. The multiple splits process also allows us to get an estimate of how consistent our prediction error is: in other words, just like in the hair example, it gives us a distribution.\n",
    "3. Furthermore the validation set that we left out has two competing demands on it. The larger the set is, the better is our estimate of the out-of-sample error. So we'd like to hold out as much as possible. But the smaller the validation set is, the more data we have to train our model on. This allows us to have more smaller sets"
   ]
  },
  {
   "cell_type": "markdown",
   "metadata": {},
   "source": [
    "The idea is illustrated in the figure below, for a given hypothesis set $\\cal{H}_a$ with complexity parameter $d=a$ (the polynomial degree). We do the train/validate split, not once but multiple times. \n",
    "\n",
    "In the figure below we create 4-folds from the training set part of our data set $\\cal{D}$. By this we mean that we divide our set roughly into 4 equal parts. As illustrated below, this can be done in 4 different ways, or folds. In each fold we train a model on 3 of the parts. The model so trained is denoted as $g^-_{Fi}$, for example $g^-_{F3}$ . The minus sign in the superscript once again indicates that we are training on a reduced set. The $F3$ indicates that this model was trained on the third fold. Note that the model trained on each fold will be different!\n",
    "\n",
    "For each fold, after training the model, we calculate the risk or error on the remaining one validation part. We then add the validation errors together from the different folds, and divide by the number of folds to calculate an average error. Note again that this average error is an average over different models $g^-_{Fi}$. We use this error as the validation error for $d=a$ in the validation process described earlier."
   ]
  },
  {
   "cell_type": "markdown",
   "metadata": {},
   "source": [
    "<img src='https://raw.githubusercontent.com/univai-ghf/ghfmedia/main/images/basic_concepts_images/train-cv2.png' width='500'>\n",
    "\n",
    "Note that the number of folds is equal to the number of splits in the data. For example, if we have 5 splits, there will be 5 folds. To illustrate cross-validation consider below fits in $\\cal{H}_0$ and $\\cal{H}_1$ (means and straight lines) to a sine curve, with only 3 data points."
   ]
  },
  {
   "cell_type": "markdown",
   "metadata": {},
   "source": [
    "### The entire description of K-fold Cross-validation"
   ]
  },
  {
   "cell_type": "markdown",
   "metadata": {},
   "source": [
    "We put thogether this scheme to calculate the error for a given polynomial degree $d$ with the method we used earlier to choose a model given the validation-set risk as a function of $d$:\n",
    "\n",
    "1. create `n_folds` partitions of the training data. \n",
    "2. We then train on `n_folds -1` of these partitions, and test on the remaining partition. There are `n_folds` such combinations of partitions (or folds), and thus we obtain `n_fold` risks.\n",
    "3. We average the error or risk of all such combinations to obtain, for each value of $d$, $R_{dCV}$.\n",
    "4. We move on to the next value of $d$, and repeat 3\n",
    "5. and then find the optimal value of d that minimizes risk $d=*$.\n",
    "5. We finally use that value to make the final fit in $\\cal{H}_*$ on the entire old training set.\n",
    "\n",
    "<img src='https://raw.githubusercontent.com/univai-ghf/ghfmedia/main/images/basic_concepts_images/train-cv3.png' width='550'>"
   ]
  },
  {
   "cell_type": "markdown",
   "metadata": {},
   "source": [
    "It can also shown that **cross-validation error is an unbiased estimate of the out of sample-error**.\n",
    "\n",
    "Let us now do 4-fold cross-validation on our  data set. We increase the complexity from degree 0 to degree 20. In each case we take the old training set, split in 4 ways into 4 folds, train on 3 folds, and calculate the validation error on the remaining one. We then average the erros over the four folds to get a cross-validation error for that $d$. Then we did what we did before: find the hypothesis space $\\cal{H}_*$ with the lowest cross-validation error, and refit it using the entire training set. We can then use the test set to estimate $E_{out}$.\n",
    "\n",
    "We will use `KFold` from `scikit-learn`:"
   ]
  },
  {
   "cell_type": "code",
   "execution_count": null,
   "metadata": {},
   "outputs": [],
   "source": [
    "from sklearn.model_selection import KFold\n",
    "n_folds=4\n",
    "kfold = KFold(n_folds, shuffle=True)\n",
    "for tr, va in kfold.split(range(48)):\n",
    "    print(\"Train\", tr)\n",
    "    print(\"Validate\", va)"
   ]
  },
  {
   "cell_type": "markdown",
   "metadata": {},
   "source": [
    "### 4-fold CV on our data set\n",
    "\n",
    ">YOUR TURN HERE: Carry out 4-Fold validation. For each fold, you will need to first create the polynomial features. for each degree polynomial, fit on the smaller training set and predict on the validation set. Store the MSEs, for each degree and each fold, in `train_errors` and `valid_errors`."
   ]
  },
  {
   "cell_type": "code",
   "execution_count": null,
   "metadata": {},
   "outputs": [],
   "source": [
    "n_folds=4\n",
    "degrees=range(21)\n",
    "train_errors = np.zeros((21,4))\n",
    "valid_errors = np.zeros((21,4))"
   ]
  },
  {
   "cell_type": "code",
   "execution_count": null,
   "metadata": {},
   "outputs": [],
   "source": [
    "# your code here\n"
   ]
  },
  {
   "cell_type": "markdown",
   "metadata": {},
   "source": [
    "We average the MSEs over the folds"
   ]
  },
  {
   "cell_type": "code",
   "execution_count": null,
   "metadata": {},
   "outputs": [],
   "source": [
    "mean_train_errors = train_errors.mean(axis=1)\n",
    "mean_valid_errors = valid_errors.mean(axis=1)\n",
    "std_train_errors = train_errors.std(axis=1)\n",
    "std_valid_errors = valid_errors.std(axis=1)"
   ]
  },
  {
   "cell_type": "markdown",
   "metadata": {},
   "source": [
    "We find the degree that minimizes the `cross-validation` error, and just like before, refit the model on the entire training set"
   ]
  },
  {
   "cell_type": "code",
   "execution_count": null,
   "metadata": {},
   "outputs": [],
   "source": [
    "mindeg = np.argmin(mean_valid_errors)\n",
    "print(mindeg)\n",
    "post_cv_train_dict, test_dict=make_features(xtrain, xtest, degrees)\n",
    "#fit on whole training set now.\n",
    "est = LinearRegression()\n",
    "est.fit(post_cv_train_dict[mindeg], ytrain) # fit\n",
    "pred = est.predict(test_dict[mindeg])\n",
    "err = mean_squared_error(pred, ytest)\n",
    "errtr=mean_squared_error(ytrain, est.predict(post_cv_train_dict[mindeg]))\n",
    "cycle = plt.rcParams['axes.prop_cycle'].by_key()['color']\n",
    "c0=cycle[0]\n",
    "c1=cycle[1]\n",
    "#plt.errorbar(degrees, [r[0] for r in results], yerr=[r[3] for r in results], marker='o', label='CV error', alpha=0.5)\n",
    "plt.figure(figsize=(12,8))\n",
    "plt.plot(degrees, mean_train_errors, marker='o', label='CV error', alpha=0.9)\n",
    "plt.plot(degrees, mean_valid_errors, marker='o', label='CV error', alpha=0.9)\n",
    "\n",
    "\n",
    "plt.fill_between(degrees, mean_valid_errors-std_valid_errors, mean_valid_errors+std_valid_errors, color=c1, alpha=0.2)\n",
    "\n",
    "\n",
    "plt.plot([mindeg], [err], 'o',  label='test set error')\n",
    "plt.xticks(range(len(degrees)))\n",
    "plt.ylabel('mean squared error')\n",
    "plt.xlabel('degree')\n",
    "plt.legend(loc='upper right')\n",
    "plt.yscale(\"log\")"
   ]
  },
  {
   "cell_type": "markdown",
   "metadata": {},
   "source": [
    "We see that the cross-validation error minimizes at a low degree, and then increases. Because we have so few data points the spread in fold errors increases as well."
   ]
  },
  {
   "cell_type": "markdown",
   "metadata": {},
   "source": [
    "## PART 6: Regularization"
   ]
  },
  {
   "cell_type": "markdown",
   "metadata": {},
   "source": [
    "Upto now we have focussed on finding the polynomial with the right degree of complexity $d*$ given the data that we have.\n",
    "\n",
    "When we **regularize** we smooth or restrict the choices of the kinds of 20th order polynomials that we allow in our fits. \n",
    "\n",
    "That is, if we want to fit with a 20th order polynomial, ok, lets fit with it, but lets reduce the size of, or limit the functions in $\\cal{H}_{20}$ that we allow.\n",
    "\n",
    "\n",
    "We do this by a **soft constraint** by setting:\n",
    "\n",
    "$$\\sum_{i=0}^j a_i^2 < C.$$\n",
    "\n",
    "This setting is called the Ridge.\n",
    "\n",
    "This ensures that the coefficients dont get too high, which makes sure we dont get wildly behaving pilynomials with high coefficients. \n",
    "\n",
    "It turns out that we can do this by adding a term to the risk that we minimize on the training data for $\\cal{H}_j$ (seeing why is beyond the scope here but google on lagrange multipliers and the dual problem):\n",
    "\n",
    "$$\\cal{R}(h_j) =  \\sum_{y_i \\in \\cal{D}} (y_i - h_j(x_i))^2 +\\alpha \\sum_{i=0}^j a_i^2.$$"
   ]
  },
  {
   "cell_type": "markdown",
   "metadata": {},
   "source": [
    "### Regularization of our model with Cross-Validation"
   ]
  },
  {
   "cell_type": "code",
   "execution_count": null,
   "metadata": {},
   "outputs": [],
   "source": [
    "def plot_functions(d, est, ax, df, alpha, xtest, Xtest, xtrain, ytrain):\n",
    "    \"\"\"Plot the approximation of ``est`` on axis ``ax``. \"\"\"\n",
    "    ax.plot(df.x, df.f, color='k', label='f')\n",
    "    ax.plot(xtrain, ytrain, 's', label=\"training\", ms=5, alpha=0.3)\n",
    "    ax.plot(xtest, ytest, 's', label=\"testing\", ms=5, alpha=0.3)\n",
    "    transx=np.arange(0,1.1,0.01)\n",
    "    transX = PolynomialFeatures(d).fit_transform(transx.reshape(-1,1))\n",
    "    ax.plot(transx, est.predict(transX),  '.', ms=7, alpha=0.8, label=\"alpha = %s\" % str(alpha))\n",
    "    ax.set_ylim((0, 1))\n",
    "    ax.set_xlim((0, 1))\n",
    "    ax.set_ylabel('y')\n",
    "    ax.set_xlabel('x')\n",
    "    ax.legend(loc='lower right')\n",
    "    \n",
    "def plot_coefficients(est, ax, alpha):\n",
    "    coef = est.coef_.ravel()\n",
    "    ax.semilogy(np.abs(coef), marker='o', label=\"alpha = %s\" % str(alpha))\n",
    "    ax.set_xticks(range(0,len(coef),2))\n",
    "    ax.set_ylim((1e-1, 1e15))\n",
    "    ax.set_ylabel('abs(coefficient)')\n",
    "    ax.set_xlabel('coefficients')\n",
    "    ax.legend(loc='upper left')"
   ]
  },
  {
   "cell_type": "markdown",
   "metadata": {},
   "source": [
    "The addition of a penalty term to the risk or error causes us to choose a smaller subset of the entire set of complex $\\cal{H}_{20}$ polynomials. This is shown in the diagram below where the balance between bias and variance occurs at some subset $S_*$ of the set of 20th order polynomials indexed by $\\alpha_*$ (there is an error on the diagram, the 13 there should actually be a 20).\n",
    "\n",
    "<img src='https://raw.githubusercontent.com/univai-ghf/ghfmedia/main/images/basic_concepts_images/complexity-error-reg.png' width='400'>\n",
    "\n",
    "Lets see what some of the $\\alpha$s do. The diagram below trains on the entire training set, for given values of $\\alpha$, minimizing the penalty-term-added training error.\n",
    "\n",
    "*What is wrong in the code below? It works, but is not quite philosophically right. We are doing it for demonstration purposes*"
   ]
  },
  {
   "cell_type": "code",
   "execution_count": null,
   "metadata": {},
   "outputs": [],
   "source": [
    "from sklearn.linear_model import Ridge\n",
    "fig, rows = plt.subplots(6, 2, figsize=(12, 24))\n",
    "d=20\n",
    "alphas = [0.0, 1e-6, 1e-5, 1e-3, 0.01, 1]\n",
    "train_dict, test_dict = make_features(xtrain, xtest, degrees)\n",
    "Xtrain = train_dict[d]\n",
    "Xtest = test_dict[d]\n",
    "for i, alpha in enumerate(alphas):\n",
    "    l,r=rows[i]\n",
    "    est = Ridge(alpha=alpha)\n",
    "    est.fit(Xtrain, ytrain)\n",
    "    plot_functions(d, est, l, df, alpha, xtest, Xtest, xtrain, ytrain )\n",
    "    plot_coefficients(est, r, alpha)"
   ]
  },
  {
   "cell_type": "markdown",
   "metadata": {},
   "source": [
    "As you can see, as we increase $\\alpha$ from 0 to 1, we start out overfitting, then doing well, and then, our fits, develop a mind of their own irrespective of data, as the penalty term dominates the risk."
   ]
  },
  {
   "cell_type": "markdown",
   "metadata": {},
   "source": [
    "**Question**: State true or false in regards to regularizing your model.\n",
    "\n",
    "Statement I: Regularization shrinks the weights of unimportant features.\n",
    "\n",
    "Statement II: It prevents a complex model ovefitting on the data.\n",
    "\n",
    "Statement III: Ridge regression is more intrepetable than Lasso regression.\n",
    "\n",
    "A) True, True, True\n",
    "\n",
    "B) False, True, False\n",
    "\n",
    "C) True, True, False\n",
    "\n",
    "D) False, False, True"
   ]
  },
  {
   "cell_type": "markdown",
   "metadata": {},
   "source": [
    "### `GridSearchCV` meta-estimator\n",
    "\n",
    "Lets use cross-validation to figure what this critical $\\alpha_*$ is. To do this we use the concept of a *meta-estimator* from scikit-learn. As the API paper puts it:\n",
    "\n",
    ">In scikit-learn, model selection is supported in two distinct meta-estimators, GridSearchCV and RandomizedSearchCV. They take as input an estimator (basic or composite), whose hyper-parameters must be optimized, and a set of hyperparameter settings to search through.\n",
    "\n",
    "The concept of a meta-estimator allows us to wrap, for example, cross-validation, or methods that build and combine simpler models or schemes. For example:\n",
    "\n",
    "``` python\n",
    "est = Ridge()\n",
    "parameters = {\"alpha\": [1e-8, 1e-6, 1e-5, 5e-5, 1e-4, 5e-4, 1e-3, 1e-2, 1e-1, 1.0]}\n",
    "gridclassifier=GridSearchCV(est, param_grid=parameters, cv=4, scoring=\"mean_squared_error\")\n",
    "``` \n",
    "The `GridSearchCV` replaces the manual iteration over thefolds using `KFolds` and the averaging we did previously, doing it all for us. It takes a parameter grid in the shape of a dictionary as input, and sets $\\alpha$ to the appropriate parameter values one by one. It then trains the model, cross-validation fashion, and gets the error. Finally it compares the errors for the different $\\alpha$'s, and picks the best choice model."
   ]
  },
  {
   "cell_type": "code",
   "execution_count": null,
   "metadata": {},
   "outputs": [],
   "source": [
    "from sklearn.model_selection import GridSearchCV\n",
    "def cv_optimize_ridge(X, y, n_folds=4):\n",
    "    est = Ridge()\n",
    "    parameters = {\"alpha\": [1e-8, 1e-6, 1e-5, 5e-5, 1e-4, 5e-4, 1e-3, 1e-2, 1e-1, 1.0]}\n",
    "    #the scoring parameter below is the default one in ridge, but you can use a different one\n",
    "    #in the cross-validation phase if you want.\n",
    "    gs = GridSearchCV(est, param_grid=parameters, cv=n_folds, scoring=\"neg_mean_squared_error\")\n",
    "    gs.fit(X, y)\n",
    "    return gs"
   ]
  },
  {
   "cell_type": "code",
   "execution_count": null,
   "metadata": {},
   "outputs": [],
   "source": [
    "fitmodel = cv_optimize_ridge(Xtrain, ytrain, n_folds=4)"
   ]
  },
  {
   "cell_type": "code",
   "execution_count": null,
   "metadata": {},
   "outputs": [],
   "source": [
    "fitmodel.best_estimator_, fitmodel.best_params_, fitmodel.best_score_"
   ]
  },
  {
   "cell_type": "code",
   "execution_count": null,
   "metadata": {},
   "outputs": [],
   "source": [
    "fitmodel.cv_results_"
   ]
  },
  {
   "cell_type": "markdown",
   "metadata": {},
   "source": [
    "\n",
    "\n",
    "### Refitting on entire training set\n",
    "\n",
    "We refit the estimator on old training set, and calculate and plot the test set error and the polynomial coefficients. Notice how many of these coefficients have been pushed to lower values or 0.\n",
    "\n",
    "\n",
    ">YOUR TURN NOW: assign to variable est the classifier obtained by fitting the entire training set using the best $\\alpha$ found above."
   ]
  },
  {
   "cell_type": "code",
   "execution_count": null,
   "metadata": {},
   "outputs": [],
   "source": [
    "#Store in est a new classifier fit on the entire training set with the best alpha\n",
    "# your code here\n"
   ]
  },
  {
   "cell_type": "code",
   "execution_count": null,
   "metadata": {},
   "outputs": [],
   "source": [
    "def plot_functions_onall(est, ax, df, alpha, xtrain, ytrain, Xtrain, xtest, ytest):\n",
    "    \"\"\"Plot the approximation of ``est`` on axis ``ax``. \"\"\"\n",
    "    ax.plot(df.x, df.f, color='k', label='f')\n",
    "    ax.plot(xtrain, ytrain, 's', alpha=0.4, label=\"train\")\n",
    "    ax.plot(xtest, ytest, 's', alpha=0.6, label=\"test\")\n",
    "    transx=np.arange(0,1.1,0.01)\n",
    "    transX = PolynomialFeatures(20).fit_transform(transx.reshape(-1,1))\n",
    "    ax.plot(transx, est.predict(transX), '.', alpha=0.6, label=\"alpha = %s\" % str(alpha))\n",
    "    #print est.predict(transX)\n",
    "    ax.set_ylim((0, 1))\n",
    "    ax.set_xlim((0, 1))\n",
    "    ax.set_ylabel('y')\n",
    "    ax.set_xlabel('x')\n",
    "    ax.legend(loc='lower right')"
   ]
  },
  {
   "cell_type": "code",
   "execution_count": null,
   "metadata": {},
   "outputs": [],
   "source": [
    "fig, rows = plt.subplots(1, 2, figsize=(12, 5))\n",
    "l,r=rows\n",
    "plot_functions_onall(est, l, df, alphawechoose, xtrain, ytrain, Xtrain, xtest, ytest)\n",
    "plot_coefficients(est, r, alphawechoose)"
   ]
  },
  {
   "cell_type": "markdown",
   "metadata": {},
   "source": [
    "As we can see, the best fit model is now chosen from the entire set of 20th order polynomials, and a non-zero hyperparameter $\\alpha$ that we fit for ensures that only smooth models amongst these polynomials are chosen, by setting most of the polynomial coefficients to something close to 0 (Lasson sets them exactly to 0)."
   ]
  }
 ],
 "metadata": {
  "kernelspec": {
   "display_name": "Python 3",
   "language": "python",
   "name": "python3"
  },
  "language_info": {
   "codemirror_mode": {
    "name": "ipython",
    "version": 3
   },
   "file_extension": ".py",
   "mimetype": "text/x-python",
   "name": "python",
   "nbconvert_exporter": "python",
   "pygments_lexer": "ipython3",
   "version": "3.9.1"
  }
 },
 "nbformat": 4,
 "nbformat_minor": 4
}
